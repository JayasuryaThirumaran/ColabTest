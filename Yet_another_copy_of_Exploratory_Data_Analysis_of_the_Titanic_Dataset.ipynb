{
  "nbformat": 4,
  "nbformat_minor": 0,
  "metadata": {
    "colab": {
      "provenance": []
    },
    "kernelspec": {
      "name": "python3",
      "display_name": "Python 3"
    },
    "language_info": {
      "name": "python"
    }
  },
  "cells": [
    {
      "cell_type": "markdown",
      "metadata": {
        "id": "ujGSGGQhrf-N"
      },
      "source": [
        "# **NPCI Upskilling - AI/ML Data Science & Engineering**\n",
        "## A Program by IIIT-H and TalentSprint"
      ]
    },
    {
      "cell_type": "markdown",
      "metadata": {
        "id": "Nh70dVHx0G_B"
      },
      "source": [
        "## Dataset Description"
      ]
    },
    {
      "cell_type": "markdown",
      "metadata": {
        "id": "y-GMJTRb0Iyy"
      },
      "source": [
        "The sinking of the Titanic is one of the most infamous shipwrecks in history.\n",
        "\n",
        "On April 15, 1912, during her maiden voyage, the widely considered “unsinkable” RMS Titanic sank after colliding with an iceberg. Unfortunately, there weren’t enough lifeboats for everyone onboard, resulting in the death of many passengers and crew.\n",
        "\n",
        "While there was some element of luck involved in surviving, it seems some groups of people were more likely to survive than others.\n",
        "\n",
        "[ Data Set Link: Kaggle](https://www.kaggle.com/competitions/titanic)\n",
        "\n",
        "<br/>\n",
        "\n",
        "### Data Set Characteristics:\n",
        "\n",
        "**PassengerId:** Id of the Passenger\n",
        "\n",
        "**Survived:** Survived or Not information\n",
        "\n",
        "**Pclass:** Socio-economic status (SES)\n",
        "  * 1st = Upper\n",
        "  * 2nd = Middle\n",
        "  * 3rd = Lower\n",
        "\n",
        "**Name:** Surname, First Names of the Passenger\n",
        "\n",
        "**Sex:** Gender of the Passenger\n",
        "\n",
        "**Age:** Age of the Passenger\n",
        "\n",
        "**SibSp:**\tNo. of siblings/spouse of the passenger aboard the Titanic\n",
        "\n",
        "**Parch:**\tNo. of parents/children of the passenger aboard the Titanic\n",
        "\n",
        "**Ticket:**\tTicket number\n",
        "\n",
        "**Fare:** Passenger fare\n",
        "\n",
        "**Cabin:**\tCabin number\n",
        "\n",
        "**Embarked:** Port of Embarkation\n",
        "  * S = Southampton\n",
        "  * C = Cherbourg\n",
        "  * Q = Queenstown\n"
      ]
    },
    {
      "cell_type": "code",
      "source": [
        "# @title Download the datasets\n",
        "from IPython import get_ipython\n",
        "\n",
        "ipython = get_ipython()\n",
        "\n",
        "notebook=\"U1_MH1_Data_Munging\" #name of the notebook\n",
        "\n",
        "def setup():\n",
        "    from IPython.display import HTML, display\n",
        "    ipython.magic(\"sx wget https://cdn.iiith.talentsprint.com/aiml/Experiment_related_data/titanic.csv\")\n",
        "    ipython.magic(\"sx wget https://cdn.iiith.talentsprint.com/aiml/Experiment_related_data/test_titanic.csv\")\n",
        "    print(\"Data downloaded successfully\")\n",
        "    return\n",
        "\n",
        "setup()"
      ],
      "metadata": {
        "cellView": "form",
        "id": "ViFc50xKK-tY"
      },
      "execution_count": null,
      "outputs": []
    },
    {
      "cell_type": "markdown",
      "metadata": {
        "id": "gn6HQH7abkyL"
      },
      "source": [
        "## Import Required Packages"
      ]
    },
    {
      "cell_type": "code",
      "execution_count": null,
      "metadata": {
        "id": "DvJQvIn2Em-k"
      },
      "outputs": [],
      "source": [
        "# pandas\n",
        "import pandas as pd\n",
        "from pandas import Series,DataFrame\n",
        "\n",
        "# numpy, matplotlib, seaborn\n",
        "import numpy as np\n",
        "import matplotlib.pyplot as plt\n",
        "import seaborn as sns\n",
        "sns.set_style('whitegrid')"
      ]
    },
    {
      "cell_type": "markdown",
      "metadata": {
        "id": "g5fBLdQaJtd4"
      },
      "source": [
        "## Load and Explore the Data\n",
        "\n",
        "* Understand different features in the dataset\n",
        "* Understand the data types of each columns\n",
        "* Notice the columns of missing values\n",
        "\n",
        "\n"
      ]
    },
    {
      "cell_type": "code",
      "source": [
        "# get titanic csv file as a DataFrame\n",
        "titanic_df = pd.read_csv(\"titanic.csv\")\n",
        "\n",
        "# preview the data\n",
        "first_name = titanic_df['Name'].values[0]\n",
        "expected_name = \"Braund, Mr. Owen Harris\"\n",
        "assert first_name == expected_name\n",
        "assert len(titanic_df) == 891"
      ],
      "metadata": {
        "id": "nrHVkTheE_wo"
      },
      "execution_count": null,
      "outputs": []
    },
    {
      "cell_type": "code",
      "source": [
        "# prompt: # get titanic csv file as a DataFrame\n",
        "# titanic_df = pd.read_csv(\"titanic.csv\")\n",
        "# # preview the data\n",
        "# first_name = titanic_df['Name'].values[0]\n",
        "# expected_name = \"Braund, Mr. Owen Harris\"\n",
        "# assert first_name == expected_name\n",
        "# assert len(titanic_df) == 891\n",
        "# add comments for the above code\n",
        "\n",
        "from IPython import get_ipython\n",
        "from IPython.display import HTML, display\n",
        "import pandas as pd\n",
        "from pandas import Series,DataFrame\n",
        "import numpy as np\n",
        "import matplotlib.pyplot as plt\n",
        "import seaborn as sns\n",
        "\n",
        "# Set the plotting style\n",
        "sns.set_style('whitegrid')\n",
        "\n",
        "# Function to download datasets (not directly related to the core task but provided for completeness)\n",
        "ipython = get_ipython()\n",
        "notebook=\"U1_MH1_Data_Munging\" #name of the notebook\n",
        "\n",
        "def setup():\n",
        "    ipython.magic(\"sx wget https://cdn.iiith.talentsprint.com/aiml/Experiment_related_data/titanic.csv\")\n",
        "    ipython.magic(\"sx wget https://cdn.iiith.talentsprint.com/aiml/Experiment_related_data/test_titanic.csv\")\n",
        "    print(\"Data downloaded successfully\")\n",
        "    return\n",
        "\n",
        "setup()\n",
        "\n",
        "# Load the Titanic dataset into a pandas DataFrame\n",
        "titanic_df = pd.read_csv(\"titanic.csv\")\n",
        "\n",
        "# Extract the first name from the 'Name' column\n",
        "first_name = titanic_df['Name'].values[0]\n",
        "\n",
        "# Expected value for the first name\n",
        "expected_name = \"Braund, Mr. Owen Harris\"\n",
        "\n",
        "# Assertion tests to validate data loading and content\n",
        "# Check if the extracted first name matches the expected name\n",
        "assert first_name == expected_name\n",
        "\n",
        "# Check if the DataFrame has the expected number of rows (passengers)\n",
        "assert len(titanic_df) == 891"
      ],
      "metadata": {
        "id": "9B-h2uDbHEma"
      },
      "execution_count": null,
      "outputs": []
    },
    {
      "cell_type": "code",
      "source": [
        "titanic_df.info()"
      ],
      "metadata": {
        "id": "gNu2fzeHFodO"
      },
      "execution_count": null,
      "outputs": []
    },
    {
      "cell_type": "markdown",
      "source": [
        "### Drop the columns:\n",
        "\n",
        "Drop the columns: - \"PassengerId\", \"Name\", \"Tickets\"\n",
        "\n",
        "\n",
        "\n"
      ],
      "metadata": {
        "id": "6oJI0bQOVpP4"
      }
    },
    {
      "cell_type": "code",
      "source": [
        "# drop unnecessary columns, these columns won't be useful in analysis\n",
        "titanic_df = titanic_df.drop(['PassengerId','Name','Ticket'], axis=1)"
      ],
      "metadata": {
        "id": "swRj011KFw7X"
      },
      "execution_count": null,
      "outputs": []
    },
    {
      "cell_type": "code",
      "source": [
        "# prompt: add comment for the above cde\n",
        "\n",
        "from IPython import get_ipython\n",
        "from IPython.display import HTML, display\n",
        "import pandas as pd\n",
        "from pandas import Series,DataFrame\n",
        "import numpy as np\n",
        "import matplotlib.pyplot as plt\n",
        "import seaborn as sns\n",
        "from IPython.display import HTML, display\n",
        "\n",
        "# **NPCI Upskilling - AI/ML Data Science & Engineering**\n",
        "# ## A Program by IIIT-H and TalentSprint\n",
        "# ## Dataset Description\n",
        "# The sinking of the Titanic is one of the most infamous shipwrecks in history.\n",
        "#\n",
        "# On April 15, 1912, during her maiden voyage, the widely considered “unsinkable” RMS Titanic sank after colliding with an iceberg. Unfortunately, there weren’t enough lifeboats for everyone onboard, resulting in the death of many passengers and crew.\n",
        "#\n",
        "# While there was some element of luck involved in surviving, it seems some groups of people were more likely to survive than others.\n",
        "#\n",
        "# [ Data Set Link: Kaggle](https://www.kaggle.com/competitions/titanic)\n",
        "#\n",
        "# <br/>\n",
        "#\n",
        "# ### Data Set Characteristics:\n",
        "#\n",
        "# **PassengerId:** Id of the Passenger\n",
        "#\n",
        "# **Survived:** Survived or Not information\n",
        "#\n",
        "# **Pclass:** Socio-economic status (SES)\n",
        "#   * 1st = Upper\n",
        "#   * 2nd = Middle\n",
        "#   * 3rd = Lower\n",
        "#\n",
        "# **Name:** Surname, First Names of the Passenger\n",
        "#\n",
        "# **Sex:** Gender of the Passenger\n",
        "#\n",
        "# **Age:** Age of the Passenger\n",
        "#\n",
        "# **SibSp:**\tNo. of siblings/spouse of the passenger aboard the Titanic\n",
        "#\n",
        "# **Parch:**\tNo. of parents/children of the passenger aboard the Titanic\n",
        "#\n",
        "# **Ticket:**\tTicket number\n",
        "#\n",
        "# **Fare:** Passenger fare\n",
        "#\n",
        "# **Cabin:**\tCabin number\n",
        "#\n",
        "# **Embarked:** Port of Embarkation\n",
        "#   * S = Southampton\n",
        "#   * C = Cherbourg\n",
        "#   * Q = Queenstown\n",
        "#\n",
        "# @title Download the datasets\n",
        "\n",
        "ipython = get_ipython()\n",
        "\n",
        "notebook=\"U1_MH1_Data_Munging\" #name of the notebook\n",
        "\n",
        "def setup():\n",
        "    ipython.magic(\"sx wget https://cdn.iiith.talentsprint.com/aiml/Experiment_related_data/titanic.csv\")\n",
        "    ipython.magic(\"sx wget https://cdn.iiith.talentsprint.com/aiml/Experiment_related_data/test_titanic.csv\")\n",
        "    print(\"Data downloaded successfully\")\n",
        "    return\n",
        "\n",
        "setup()\n",
        "# ## Import Required Packages\n",
        "# pandas\n",
        "\n",
        "# numpy, matplotlib, seaborn\n",
        "sns.set_style('whitegrid')\n",
        "# ## Load and Explore the Data\n",
        "#\n",
        "# * Understand different features in the dataset\n",
        "# * Understand the data types of each columns\n",
        "# * Notice the columns of missing values\n",
        "#\n",
        "#\n",
        "#\n",
        "# # Load the Titanic dataset\n",
        "titanic_df = pd.read_csv(\"titanic.csv\")\n",
        "\n",
        "# Preview the data and perform assertions for data validation\n",
        "first_name = titanic_df['Name'].values[0]  # Extract the first name\n",
        "expected_name = \"Braund, Mr. Owen Harris\"  # Expected first name\n",
        "assert first_name == expected_name  # Check if the extracted name matches the expected name\n",
        "assert len(titanic_df) == 891  # Check if the DataFrame contains the expected number of rows\n",
        "\n",
        "# Set plotting style\n",
        "sns.set_style('whitegrid')\n",
        "\n",
        "# Function to download datasets (not directly related to the core task but provided for completeness)\n",
        "ipython = get_ipython()\n",
        "notebook=\"U1_MH1_Data_Munging\" #name of the notebook\n",
        "\n",
        "def setup():\n",
        "    ipython.magic(\"sx wget https://cdn.iiith.talentsprint.com/aiml/Experiment_related_data/titanic.csv\")\n",
        "    ipython.magic(\"sx wget https://cdn.iiith.talentsprint.com/aiml/Experiment_related_data/test_titanic.csv\")\n",
        "    print(\"Data downloaded successfully\")\n",
        "    return\n",
        "\n",
        "setup()\n",
        "\n",
        "# Load the Titanic dataset into a pandas DataFrame\n",
        "titanic_df = pd.read_csv(\"titanic.csv\")\n",
        "\n",
        "# Extract the first name from the 'Name' column\n",
        "first_name = titanic_df['Name'].values[0]\n",
        "\n",
        "# Expected value for the first name\n",
        "expected_name = \"Braund, Mr. Owen Harris\"\n",
        "\n",
        "# Assertion tests to validate data loading and content\n",
        "# Check if the extracted first name matches the expected name\n",
        "assert first_name == expected_name\n",
        "\n",
        "# Check if the DataFrame has the expected number of rows (passengers)\n",
        "assert len(titanic_df) == 891\n",
        "titanic_df.info() # Display data info\n",
        "# ### Drop the columns:\n",
        "#\n",
        "# Drop the columns: - \"PassengerId\", \"Name\", \"Tickets\"\n",
        "#\n",
        "#\n",
        "#\n",
        "#\n",
        "# # Drop unnecessary columns for analysis\n",
        "titanic_df = titanic_df.drop(['PassengerId','Name','Ticket'], axis=1) # Drop specified columns from the DataFrame"
      ],
      "metadata": {
        "id": "SKOe0aeWHalP"
      },
      "execution_count": null,
      "outputs": []
    },
    {
      "cell_type": "markdown",
      "source": [
        "### Data Cleaning and Processing"
      ],
      "metadata": {
        "id": "4Q1AtwyUIeKp"
      }
    },
    {
      "cell_type": "code",
      "source": [
        "# Embarked\n",
        "\n",
        "# In titanic_df, fill the two missing values with the most occurred value, which is \"S\".\n",
        "titanic_df[\"Embarked\"] = titanic_df[\"Embarked\"].fillna(\"S\")\n",
        "assert titanic_df[\"Embarked\"].isnull().sum() == 0\n"
      ],
      "metadata": {
        "id": "KlQTYqV7SLYd"
      },
      "execution_count": null,
      "outputs": []
    },
    {
      "cell_type": "code",
      "source": [
        "# group by embarked, and get the mean for survived passengers for each value in Embarked\n",
        "embark_perc = titanic_df[[\"Embarked\", \"Survived\"]].groupby(['Embarked'],as_index=False).mean()\n",
        "\n",
        "assert embark_perc.iloc[0]['Survived'] == 0.5535714285714286\n",
        "embark_perc.iloc[1]['Survived'] == 0.38961038961038963\n",
        "embark_perc.iloc[2]['Survived'] == 0.33900928792569657"
      ],
      "metadata": {
        "id": "sagNGUkPnLJd"
      },
      "execution_count": null,
      "outputs": []
    },
    {
      "cell_type": "code",
      "source": [
        "# Plot 1: Visualize the relationship between Embarked and Survived using a point plot.\n",
        "sns.catplot(x='Embarked', y='Survived', data=titanic_df, kind='point', height=4, aspect=3)\n",
        "\n",
        "# Set up a multi-panel plot to visualize counts and distributions.\n",
        "fig, (axis1, axis2, axis3) = plt.subplots(1, 3, figsize=(15, 5))\n",
        "\n",
        "# Plot 2: Count plot of the 'Embarked' categories to visualize counts of passengers boarding at each location.\n",
        "sns.countplot(x='Embarked', data=titanic_df, ax=axis1)\n",
        "\n",
        "# Plot 3: Count plot of survival status (Survived=0 or 1) split by Embarked values using hue.\n",
        "sns.countplot(x='Survived', hue=\"Embarked\", data=titanic_df, order=[1, 0], ax=axis2)\n",
        "\n",
        "# Plot 4: Bar plot to visualize the average survival rate by Embarked categories ('S', 'C', 'Q').\n",
        "sns.barplot(x='Embarked', y='Survived', data=embark_perc, order=['S', 'C', 'Q'], ax=axis3)\n",
        "\n",
        "# Create dummy variables for 'Embarked' column using one-hot encoding.\n",
        "embark_dummies_titanic = pd.get_dummies(titanic_df['Embarked'])\n",
        "\n",
        "# Drop the 'S' category dummy variable from the analysis based on prior observations.\n",
        "embark_dummies_titanic.drop(['S'], axis=1, inplace=True)\n",
        "\n",
        "# Add these new dummy variables to the Titanic DataFrame.\n",
        "titanic_df = titanic_df.join(embark_dummies_titanic)\n",
        "\n",
        "# Drop the original 'Embarked' column, as it's been replaced by dummy variables.\n",
        "titanic_df.drop(['Embarked'], axis=1, inplace=True)"
      ],
      "metadata": {
        "id": "xZzeIWwIF692"
      },
      "execution_count": null,
      "outputs": []
    },
    {
      "cell_type": "code",
      "source": [
        "# Fare\n",
        "\n",
        "# convert from float to int\n",
        "titanic_df['Fare'] = titanic_df['Fare'].astype(int)\n",
        "\n",
        "# get fare for survived & didn't survive passengers\n",
        "fare_not_survived = titanic_df[\"Fare\"][titanic_df[\"Survived\"] == 0]\n",
        "fare_survived     = titanic_df[\"Fare\"][titanic_df[\"Survived\"] == 1]\n",
        "\n",
        "assert fare_survived.mean() == 47.99122807017544\n",
        "assert fare_not_survived.mean() == 21.690346083788707"
      ],
      "metadata": {
        "id": "k1T5lKXxGmEt"
      },
      "execution_count": null,
      "outputs": []
    },
    {
      "cell_type": "code",
      "source": [
        "# get average and std for fare of survived/not survived passengers\n",
        "average_fare = DataFrame([fare_not_survived.mean(), fare_survived.mean()])\n",
        "std_fare      = DataFrame([fare_not_survived.std(), fare_survived.std()])\n",
        "\n",
        "# plot\n",
        "titanic_df['Fare'].plot(kind='hist', figsize=(15,3),bins=100, xlim=(0,50))\n",
        "\n",
        "average_fare.index.names = std_fare.index.names = [\"Survived\"]\n",
        "average_fare.plot(yerr=std_fare,kind='bar',legend=False)"
      ],
      "metadata": {
        "id": "mI0o1Td0pRch"
      },
      "execution_count": null,
      "outputs": []
    },
    {
      "cell_type": "code",
      "source": [
        "import warnings\n",
        "warnings.filterwarnings('ignore')\n",
        "\n",
        "# Age\n",
        "\n",
        "# get average, std, and number of NaN values in titanic_df\n",
        "average_age_titanic   = titanic_df[\"Age\"].mean()\n",
        "std_age_titanic       = titanic_df[\"Age\"].std()\n",
        "count_nan_age_titanic = titanic_df[\"Age\"].isnull().sum()\n",
        "\n",
        "assert average_age_titanic == 29.69911764705882\n",
        "assert std_age_titanic == 14.526497332334044\n",
        "assert count_nan_age_titanic == 177"
      ],
      "metadata": {
        "id": "whYWBCpFG0eC"
      },
      "execution_count": null,
      "outputs": []
    },
    {
      "cell_type": "code",
      "source": [
        "fig, (axis1,axis2) = plt.subplots(1,2,figsize=(15,4))\n",
        "axis1.set_title('Original Age values - Titanic')\n",
        "axis2.set_title('New Age values - Titanic')\n",
        "\n",
        "# generate random numbers between (mean - std) & (mean + std)\n",
        "rand_1 = np.random.randint(average_age_titanic - std_age_titanic, average_age_titanic + std_age_titanic, size = count_nan_age_titanic)\n",
        "\n",
        "# plot original Age values\n",
        "# NOTE: drop all null values, and convert to int\n",
        "titanic_df['Age'].dropna().astype(int).hist(bins=70, ax=axis1)\n",
        "\n",
        "# fill NaN values in Age column with random values generated\n",
        "titanic_df[\"Age\"][np.isnan(titanic_df[\"Age\"])] = rand_1\n",
        "\n",
        "# convert from float to int\n",
        "titanic_df['Age'] = titanic_df['Age'].astype(int)\n",
        "\n",
        "# plot new Age Values\n",
        "titanic_df['Age'].hist(bins=70, ax=axis2)"
      ],
      "metadata": {
        "id": "Y8HJyFJWsUVb"
      },
      "execution_count": null,
      "outputs": []
    },
    {
      "cell_type": "code",
      "source": [
        "# .... continue with plot Age column\n",
        "\n",
        "# peaks for survived/not survived passengers by their age\n",
        "facet = sns.FacetGrid(titanic_df, hue=\"Survived\",aspect=4)\n",
        "facet.map(sns.kdeplot,'Age',shade= True)\n",
        "facet.set(xlim=(0, titanic_df['Age'].max()))\n",
        "facet.add_legend()\n",
        "\n",
        "# average survived passengers by age\n",
        "fig, axis1 = plt.subplots(1,1,figsize=(18,4))\n",
        "average_age = titanic_df[[\"Age\", \"Survived\"]].groupby(['Age'],as_index=False).mean()\n",
        "sns.barplot(x='Age', y='Survived', data=average_age)"
      ],
      "metadata": {
        "id": "CSxQlp7kHDjs"
      },
      "execution_count": null,
      "outputs": []
    },
    {
      "cell_type": "code",
      "source": [
        "# Cabin\n",
        "# It has a lot of NaN values, so it won't cause a remarkable impact on analysis\n",
        "titanic_df.drop(\"Cabin\",axis=1,inplace=True)"
      ],
      "metadata": {
        "id": "O6ORP6HTHHQS"
      },
      "execution_count": null,
      "outputs": []
    },
    {
      "cell_type": "code",
      "source": [
        "# Family\n",
        "\n",
        "# Instead of having two columns Parch & SibSp,\n",
        "# we can have only one column represent if the passenger had any family member aboard or not,\n",
        "# Meaning, if having any family member(whether parent, brother, ...etc) will increase chances of Survival or not.\n",
        "titanic_df['Family'] =  titanic_df[\"Parch\"] + titanic_df[\"SibSp\"]\n",
        "titanic_df['Family'].loc[titanic_df['Family'] > 0] = 1\n",
        "titanic_df['Family'].loc[titanic_df['Family'] == 0] = 0\n",
        "\n",
        "\n",
        "# drop Parch & SibSp\n",
        "titanic_df = titanic_df.drop(['SibSp','Parch'], axis=1)\n",
        "\n",
        "# plot\n",
        "fig, (axis1,axis2) = plt.subplots(1,2,sharex=True,figsize=(10,5))\n",
        "\n",
        "# sns.factorplot('Family',data=titanic_df,kind='count',ax=axis1)\n",
        "sns.countplot(x='Family', data=titanic_df, order=[1,0], ax=axis1)\n",
        "\n",
        "# average of survived for those who had/didn't have any family member\n",
        "family_perc = titanic_df[[\"Family\", \"Survived\"]].groupby(['Family'],as_index=False).mean()\n",
        "sns.barplot(x='Family', y='Survived', data=family_perc, order=[1,0], ax=axis2)\n",
        "\n",
        "axis1.set_xticklabels([\"With Family\",\"Alone\"], rotation=0)"
      ],
      "metadata": {
        "id": "VI5eZaRPHMKh"
      },
      "execution_count": null,
      "outputs": []
    },
    {
      "cell_type": "code",
      "source": [
        "# Sex\n",
        "\n",
        "# As we see, children(age < ~16) on aboard seem to have a high chances for Survival.\n",
        "# So, we can classify passengers as males, females, and child\n",
        "def get_person(passenger):\n",
        "    age,sex = passenger\n",
        "    return 'child' if age < 16 else sex\n",
        "\n",
        "titanic_df['Person'] = titanic_df[['Age','Sex']].apply(get_person,axis=1)\n",
        "\n",
        "# No need to use Sex column since we created Person column\n",
        "titanic_df.drop(['Sex'],axis=1,inplace=True)\n",
        "\n",
        "# create dummy variables for Person column, & drop Male as it has the lowest average of survived passengers\n",
        "person_dummies_titanic  = pd.get_dummies(titanic_df['Person'])\n",
        "person_dummies_titanic.columns = ['Child','Female','Male']\n",
        "person_dummies_titanic.drop(['Male'], axis=1, inplace=True)\n",
        "\n",
        "\n",
        "titanic_df = titanic_df.join(person_dummies_titanic)\n",
        "\n",
        "# average of survived for each Person(male, female, or child)\n",
        "person_perc = titanic_df[[\"Person\", \"Survived\"]].groupby(['Person'],as_index=False).mean()\n",
        "\n",
        "assert person_perc[person_perc['Person'] == 'female']['Survived'].values[0] > person_perc[person_perc['Person'] == 'child']['Survived'].values[0]\n",
        "assert person_perc[person_perc['Person'] == 'child']['Survived'].values[0] > person_perc[person_perc['Person'] == 'male']['Survived'].values[0]"
      ],
      "metadata": {
        "id": "WiumWbPHHUbb"
      },
      "execution_count": null,
      "outputs": []
    },
    {
      "cell_type": "code",
      "source": [
        "# Pclass\n",
        "\n",
        "# sns.factorplot('Pclass',data=titanic_df,kind='count',order=[1,2,3])\n",
        "sns.catplot(x='Pclass', y='Survived', order=[1, 2, 3], data=titanic_df, kind='point', height=5, aspect=1.5)\n",
        "\n",
        "# create dummy variables for Pclass column, & drop 3rd class as it has the lowest average of survived passengers\n",
        "pclass_dummies_titanic  = pd.get_dummies(titanic_df['Pclass'])\n",
        "pclass_dummies_titanic.columns = ['Class_1','Class_2','Class_3']\n",
        "pclass_dummies_titanic.drop(['Class_3'], axis=1, inplace=True)\n",
        "\n",
        "titanic_df.drop(['Pclass'],axis=1,inplace=True)\n",
        "\n",
        "titanic_df = titanic_df.join(pclass_dummies_titanic)"
      ],
      "metadata": {
        "id": "ObWpCOyoHY2N"
      },
      "execution_count": null,
      "outputs": []
    },
    {
      "cell_type": "markdown",
      "metadata": {
        "id": "4m51wiPEp9T1"
      },
      "source": [
        "### Please answer the questions below to complete the experiment:\n",
        "\n",
        "\n"
      ]
    },
    {
      "cell_type": "code",
      "execution_count": null,
      "metadata": {
        "id": "mVpko2ucp9UF"
      },
      "outputs": [],
      "source": [
        "# @title How can you remove a column from a Pandas DataFrame?  { run: \"auto\", form-width: \"500px\", display-mode: \"form\" }\n",
        "Answer = \"df.drop('column_name', axis=1)\" #@param [\"\", \"df.drop('column_name', axis=1)\", \"df.remove('column_name')\",\"del df['column_name']\",\"Both a and c\"]"
      ]
    },
    {
      "cell_type": "code",
      "execution_count": null,
      "metadata": {
        "id": "i52i69Ltp9UF"
      },
      "outputs": [],
      "source": [
        "#@title How was the experiment? { run: \"auto\", form-width: \"500px\", display-mode: \"form\" }\n",
        "Complexity = \"Was Tough, but I did it\" #@param [\"\",\"Too Simple, I am wasting time\", \"Good, But Not Challenging for me\", \"Good and Challenging for me\", \"Was Tough, but I did it\", \"Too Difficult for me\"]\n"
      ]
    },
    {
      "cell_type": "code",
      "execution_count": null,
      "metadata": {
        "id": "BV3kOseop9UF"
      },
      "outputs": [],
      "source": [
        "#@title If it was too easy, what more would you have liked to be added? If it was very difficult, what would you have liked to have been removed? { run: \"auto\", display-mode: \"form\" }\n",
        "Additional = \"xyzt more would you have liked to be added? If it was very difficult, what would\" #@param {type:\"string\"}\n"
      ]
    },
    {
      "cell_type": "code",
      "execution_count": null,
      "metadata": {
        "id": "5vuo5jzyp9UG"
      },
      "outputs": [],
      "source": [
        "#@title Can you identify the concepts from the lecture which this experiment covered? { run: \"auto\", vertical-output: true, display-mode: \"form\" }\n",
        "Concepts = \"Yes\" #@param [\"\",\"Yes\", \"No\"]\n"
      ]
    },
    {
      "cell_type": "code",
      "execution_count": null,
      "metadata": {
        "id": "wGYFNb2rp9UG"
      },
      "outputs": [],
      "source": [
        "#@title  Text and image description/explanation and code comments within the experiment: { run: \"auto\", vertical-output: true, display-mode: \"form\" }\n",
        "Comments = \"Not Useful\" #@param [\"\",\"Very Useful\", \"Somewhat Useful\", \"Not Useful\", \"Didn't use\"]\n"
      ]
    },
    {
      "cell_type": "code",
      "execution_count": null,
      "metadata": {
        "id": "rhqhDIqap9UG"
      },
      "outputs": [],
      "source": [
        "#@title Mentor Support: { run: \"auto\", vertical-output: true, display-mode: \"form\" }\n",
        "Mentor_support = \"Didn't use\" #@param [\"\",\"Very Useful\", \"Somewhat Useful\", \"Not Useful\", \"Didn't use\"]\n"
      ]
    },
    {
      "cell_type": "code",
      "execution_count": null,
      "metadata": {
        "cellView": "form",
        "id": "h-pRrB72p9UH"
      },
      "outputs": [],
      "source": [
        "#@title Run this cell to submit your notebook for grading { vertical-output: true }\n",
        "try:\n",
        "  if submission_id:\n",
        "      return_id = submit_notebook()\n",
        "      if return_id : submission_id = return_id\n",
        "  else:\n",
        "      print(\"Please complete the setup first.\")\n",
        "except NameError:\n",
        "  print (\"Please complete the setup first.\")"
      ]
    }
  ]
}